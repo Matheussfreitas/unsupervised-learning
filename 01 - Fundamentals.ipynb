{
 "cells": [
  {
   "cell_type": "markdown",
   "id": "07ed2dec",
   "metadata": {},
   "source": [
    "# Álgebra Linear e Representação de Dados"
   ]
  },
  {
   "cell_type": "markdown",
   "id": "eac6b60b",
   "metadata": {},
   "source": [
    "## Introdução\n",
    "\n",
    "Nosso objetivo é solidificar os alicerces matemáticos e computacionais indispensáveis para a compreensão e aplicação dos algoritmos de aprendizagem não supervisionada. Abordaremos os conceitos de Álgebra Linear, como vetores e matrizes, que são a linguagem fundamental para representar dados, e as operações sobre eles, que formam a base de muitos algoritmos. Utilizaremos a biblioteca `NumPy` para a implementação computacional eficiente desses conceitos. Em seguida, exploraremos como visualizar dados e resultados utilizando `Matplotlib`, para a interpretação e análise exploratória de dados."
   ]
  },
  {
   "cell_type": "code",
   "execution_count": 12,
   "id": "2ab9260f",
   "metadata": {},
   "outputs": [],
   "source": [
    "# Importação das bibliotecas necessárias\n",
    "import numpy as np\n",
    "import matplotlib.pyplot as plt\n",
    "\n",
    "# Configurações para uma melhor visualização dos gráficos\n",
    "plt.style.use('seaborn-v0_8-whitegrid')\n",
    "%matplotlib inline"
   ]
  },
  {
   "cell_type": "markdown",
   "id": "a31bbfb0",
   "metadata": {},
   "source": [
    "# 1. Álgebra Linear\n",
    "\n",
    "A Álgebra Linear é um ramo da matemática que lida com espaços vetoriais e transformações lineares. Em Machine Learning, ela é fundamental para a representação de dados e a formulação de algoritmos.\n",
    "\n",
    "## 1.1 Vetores\n",
    "\n",
    "### Definição e Notação\n",
    "\n",
    "Um vetor é definido como um elemento de um espaço vetorial. No contexto de dados, um vetor-coluna $\\mathbf{v} \\in \\mathbb{R}^{n \\times 1}$ ou um vetor-linha $\\mathbf{v}^T \\in \\mathbb{R}^{1 \\times n}$ representa uma observação ou um ponto em um espaço n-dimensional. Cada elemento $v_i$ do vetor corresponde ao valor da $i$-ésima característica (ou atributo).\n",
    "\n",
    "$$\n",
    "\\mathbf{v} = \\begin{bmatrix} v_1 \\\\ v_2 \\\\ \\vdots \\\\ v_n \\end{bmatrix} \\quad \\text{(vetor-coluna)}\n",
    "\\qquad\n",
    "\\mathbf{v}^T = \\begin{bmatrix} v_1 & v_2 & \\cdots & v_n \\end{bmatrix} \\quad \\text{(vetor-linha)}\n",
    "$$"
   ]
  },
  {
   "cell_type": "code",
   "execution_count": 13,
   "id": "fd1fe9ce",
   "metadata": {},
   "outputs": [
    {
     "name": "stdout",
     "output_type": "stream",
     "text": [
      "Vetor-linha: [1 2 3]\n",
      "Shape do vetor-linha: (3,)\n",
      "\n"
     ]
    }
   ],
   "source": [
    "# Vetor-linha (o padrão do NumPy ao criar arrays 1D)\n",
    "v_row = np.array([1, 2, 3])\n",
    "print(f\"Vetor-linha: {v_row}\")\n",
    "print(f\"Shape do vetor-linha: {v_row.shape}\\n\")"
   ]
  },
  {
   "cell_type": "code",
   "execution_count": 14,
   "id": "7393fc88",
   "metadata": {},
   "outputs": [
    {
     "name": "stdout",
     "output_type": "stream",
     "text": [
      "Vetor-coluna:\n",
      "[[1]\n",
      " [2]\n",
      " [3]]\n",
      "Shape do vetor-coluna: (3, 1)\n"
     ]
    }
   ],
   "source": [
    "# Para criar um vetor-coluna explicitamente, podemos usar reshape ou newaxis\n",
    "v_col = np.array([1, 2, 3]).reshape(-1, 1)\n",
    "# Alternativa: v_col = np.array([[1], [2], [3]])\n",
    "print(f\"Vetor-coluna:\\n{v_col}\")\n",
    "print(f\"Shape do vetor-coluna: {v_col.shape}\")"
   ]
  },
  {
   "cell_type": "markdown",
   "id": "96ae7149",
   "metadata": {},
   "source": [
    "### Indexação de Vetores\n",
    "\n",
    "A indexação permite acessar elementos individuais ou subconjuntos de um vetor.  \n",
    "No NumPy, os índices começam em **0** (diferente da notação matemática, que geralmente começa em 1).\n",
    "\n",
    "- **Acesso por índice único**: retorna um elemento do vetor.  \n",
    "- **Slice (fatiamento)**: retorna um intervalo de elementos.  \n",
    "- **Indexação negativa**: permite acessar elementos a partir do final.  \n",
    "\n",
    "Exemplo matemático de um vetor $\\mathbf{v} \\in \\mathbb{R}^5$:\n",
    "\n",
    "$$\n",
    "\\mathbf{v} = \\begin{bmatrix} v_1 \\\\ v_2 \\\\ v_3 \\\\ v_4 \\\\ v_5 \\end{bmatrix}\n",
    "$$"
   ]
  },
  {
   "cell_type": "code",
   "execution_count": 15,
   "id": "86f6da69",
   "metadata": {},
   "outputs": [
    {
     "name": "stdout",
     "output_type": "stream",
     "text": [
      "Vetor v: [10 20 30 40 50]\n"
     ]
    }
   ],
   "source": [
    "v = np.array([10, 20, 30, 40, 50])\n",
    "print(\"Vetor v:\", v)"
   ]
  },
  {
   "cell_type": "code",
   "execution_count": 16,
   "id": "e657e704",
   "metadata": {},
   "outputs": [
    {
     "name": "stdout",
     "output_type": "stream",
     "text": [
      "v[0] = 10\n",
      "v[2] = 30\n"
     ]
    }
   ],
   "source": [
    "# Acesso por índice\n",
    "print(\"v[0] =\", v[0])   # primeiro elemento\n",
    "print(\"v[2] =\", v[2])     # terceiro elemento"
   ]
  },
  {
   "cell_type": "code",
   "execution_count": 17,
   "id": "07f13e74",
   "metadata": {},
   "outputs": [
    {
     "name": "stdout",
     "output_type": "stream",
     "text": [
      "v[-1] = 50\n",
      "v[-2] = 40\n"
     ]
    }
   ],
   "source": [
    "# Indexação negativa\n",
    "print(\"v[-1] =\", v[-1]) # último elemento\n",
    "print(\"v[-2] =\", v[-2])   # penúltimo elemento"
   ]
  },
  {
   "cell_type": "code",
   "execution_count": 18,
   "id": "02b08214",
   "metadata": {},
   "outputs": [
    {
     "name": "stdout",
     "output_type": "stream",
     "text": [
      "\n",
      "v[1:4] = [20 30 40]\n",
      "v[:3] = [10 20 30]\n",
      "v[2:] = [30 40 50]\n"
     ]
    }
   ],
   "source": [
    "# Slice (fatiamento)\n",
    "print(\"\\nv[1:4] =\", v[1:4])   # elementos do índice 1 até 3\n",
    "print(\"v[:3] =\", v[:3])       # primeiros três elementos\n",
    "print(\"v[2:] =\", v[2:])       # do terceiro até o fim"
   ]
  },
  {
   "cell_type": "markdown",
   "id": "02c0dbe9",
   "metadata": {},
   "source": [
    "### Representação Gráfica de Vetores\n",
    "\n",
    "Em um espaço 2D ou 3D, podemos visualizar um vetor como uma seta partindo da origem $(0,0)$ e terminando no ponto definido por suas coordenadas. Ele pode ser interpretado tanto como uma posição no espaço quanto como um deslocamento."
   ]
  },
  {
   "cell_type": "code",
   "execution_count": 21,
   "id": "79d9ee30",
   "metadata": {},
   "outputs": [
    {
     "data": {
      "image/png": "[encoded data removed]",
      "text/plain": [
       "<Figure size 600x600 with 1 Axes>"
      ]
     },
     "metadata": {},
     "output_type": "display_data"
    }
   ],
   "source": [
    "# Representação gráfica de vetores 2D\n",
    "v1 = np.array([2, 3])\n",
    "v2 = np.array([-1, 2])\n",
    "\n",
    "# Plotando os vetores\n",
    "plt.figure(figsize=(6, 6))\n",
    "plt.quiver(0, 0, v1[0], v1[1], angles='xy', scale_units='xy', scale=1, color='r', label='v1 = [2, 3]')\n",
    "plt.quiver(0, 0, v2[0], v2[1], angles='xy', scale_units='xy', scale=1, color='b', label='v2 = [-1, 2]')\n",
    "\n",
    "# Configurações do gráfico\n",
    "plt.xlim(-4, 4)\n",
    "plt.ylim(-4, 4)\n",
    "plt.xlabel(\"Eixo X\")\n",
    "plt.ylabel(\"Eixo Y\")\n",
    "plt.axhline(0, color='grey', lw=0.5)\n",
    "plt.axvline(0, color='grey', lw=0.5)\n",
    "plt.grid(True)\n",
    "plt.legend()\n",
    "plt.title(\"Representação Gráfica de Vetores\")\n",
    "plt.show()"
   ]
  },
  {
   "cell_type": "code",
   "execution_count": 22,
   "id": "e141d634",
   "metadata": {},
   "outputs": [
    {
     "data": {
      "image/png": "[encoded data removed]",
      "text/plain": [
       "<Figure size 600x600 with 1 Axes>"
      ]
     },
     "metadata": {},
     "output_type": "display_data"
    }
   ],
   "source": [
    "# Vetores como pontos\n",
    "plt.figure(figsize=(6, 6))\n",
    "plt.scatter(v1[0], v1[1], color='r', label='v1 = [2, 3]', s=100)\n",
    "plt.scatter(v2[0], v2[1], color='b', label='v2 = [-1, 2]', s=100)\n",
    "\n",
    "# Configurações do gráfico\n",
    "plt.xlim(-4, 4)\n",
    "plt.ylim(-4, 4)\n",
    "plt.xlabel(\"Eixo X\")\n",
    "plt.ylabel(\"Eixo Y\")\n",
    "plt.axhline(0, color='grey', lw=0.5)\n",
    "plt.axvline(0, color='grey', lw=0.5)\n",
    "plt.grid(True)\n",
    "plt.legend()\n",
    "plt.title(\"Representação Gráfica de Vetores como Pontos\")\n",
    "plt.show()"
   ]
  },
  {
   "cell_type": "markdown",
   "id": "7d60049f",
   "metadata": {},
   "source": [
    "### Vetores como Representação de Dados\n",
    "\n",
    "No contexto da ciência de dados e machine learning, a interpretação de um vetor vai além de uma seta no espaço. Um vetor é a forma fundamental de representar uma única **amostra** (ou **exemplo**, **observação**) do nosso conjunto de dados.\n",
    "\n",
    "Cada elemento dentro do vetor corresponde a uma **feature** (ou **atributo**, **característica**) dessa amostra. A quantidade de elementos no vetor define sua **dimensionalidade**, que é, portanto, o número de features que estamos usando para descrever nossa amostra.\n",
    "\n",
    "Por exemplo, se estivermos analisando dados de imóveis, poderíamos descrever uma única casa usando um vetor de 3 dimensões:\n",
    "\n",
    "$$\n",
    "\\text{casa}_A = \\begin{bmatrix} \\text{área (m²)} \\\\ \\text{número de quartos} \\\\ \\text{distância do centro (km)} \\end{bmatrix} = \\begin{bmatrix} 120 \\\\ 3 \\\\ 2.5 \\end{bmatrix}\n",
    "$$\n",
    "\n",
    "Neste caso:\n",
    "- O vetor $\\begin{bmatrix} 120 & 3 & 2.5 \\end{bmatrix}^T$ representa a **amostra** \"casa A\".\n",
    "- As 3 **dimensões** do vetor correspondem às 3 **features** que medimos.\n",
    "- O valor `120` é o valor da primeira feature (área) para esta amostra específica.\n",
    "\n",
    "Essa representação nos permite usar o poder da matemática para comparar amostras. Por exemplo, podemos calcular a \"distância\" entre os vetores de duas casas para quantificar o quão similares elas são."
   ]
  },
  {
   "cell_type": "markdown",
   "id": "822c3e33",
   "metadata": {},
   "source": [
    "### Operações Básicas com Vetores\n",
    "\n",
    "Sejam dois vetores $\\mathbf{u}, \\mathbf{v} \\in \\mathbb{R}^n$ e um escalar $c \\in \\mathbb{R}$.\n",
    "\n",
    "- **Soma de Vetores**: A soma $\\mathbf{u} + \\mathbf{v}$ é realizada elemento a elemento. Geometricamente, corresponde à regra do paralelogramo.\n",
    "$$\\mathbf{u} + \\mathbf{v} = \\begin{bmatrix} u_1 + v_1 \\\\ u_2 + v_2 \\\\ \\vdots \\\\ u_n + v_n \\end{bmatrix}$$\n",
    "\n",
    "- **Multiplicação por Escalar**: A multiplicação $c\\mathbf{v}$ escala o vetor, aumentando ou diminuindo sua magnitude. Se $c < 0$, o sentido do vetor é invertido.\n",
    "$$c\\mathbf{v} = \\begin{bmatrix} cv_1 \\\\ cv_2 \\\\ \\vdots \\\\ cv_n \\end{bmatrix}$$"
   ]
  },
  {
   "cell_type": "code",
   "execution_count": 23,
   "id": "a9fa5567",
   "metadata": {},
   "outputs": [
    {
     "name": "stdout",
     "output_type": "stream",
     "text": [
      "u + v = [4 5]\n",
      "c * u = [2 8]\n"
     ]
    }
   ],
   "source": [
    "u = np.array([1, 4])\n",
    "v = np.array([3, 1])\n",
    "c = 2\n",
    "\n",
    "# Soma\n",
    "sum_vec = u + v\n",
    "print(f\"u + v = {sum_vec}\")\n",
    "\n",
    "# Multiplicação por escalar\n",
    "scaled_vec = c * u\n",
    "print(f\"c * u = {scaled_vec}\")"
   ]
  },
  {
   "cell_type": "code",
   "execution_count": 24,
   "id": "b984ce26",
   "metadata": {},
   "outputs": [
    {
     "data": {
      "image/png": "[encoded data removed]",
      "text/plain": [
       "<Figure size 800x800 with 1 Axes>"
      ]
     },
     "metadata": {},
     "output_type": "display_data"
    }
   ],
   "source": [
    "# Visualização das operações\n",
    "plt.figure(figsize=(8, 8))\n",
    "# Vetores originais\n",
    "plt.quiver(0, 0, u[0], u[1], angles='xy', scale_units='xy', scale=1, color='r', label='u = [1, 4]')\n",
    "plt.quiver(0, 0, v[0], v[1], angles='xy', scale_units='xy', scale=1, color='b', label='v = [3, 1]')\n",
    "# Resultado da soma\n",
    "plt.quiver(0, 0, sum_vec[0], sum_vec[1], angles='xy', scale_units='xy', scale=1, color='g', label='u + v = [4, 5]')\n",
    "# Resultado da multiplicação por escalar\n",
    "plt.quiver(0, 0, scaled_vec[0], scaled_vec[1], angles='xy', scale_units='xy', scale=1, color='purple', label='2u = [2, 8]')\n",
    "\n",
    "plt.xlim(-1, 9)\n",
    "plt.ylim(-1, 9)\n",
    "plt.xlabel(\"Eixo X\")\n",
    "plt.ylabel(\"Eixo Y\")\n",
    "plt.axhline(0, color='grey', lw=0.5)\n",
    "plt.axvline(0, color='grey', lw=0.5)\n",
    "plt.grid(True)\n",
    "plt.legend()\n",
    "plt.title(\"Operações com Vetores\")\n",
    "plt.show()"
   ]
  },
  {
   "cell_type": "markdown",
   "id": "20155639",
   "metadata": {},
   "source": [
    "## Exercício: Vetores como Representação de Dados\n",
    "\n",
    "Considere o contexto de **produção industrial**, onde cada vetor representa a quantidade de produtos fabricados em uma linha de produção por dia.  \n",
    "Cada vetor possui 3 atributos (features):\n",
    "\n",
    "1. Número de **parafusos** produzidos  \n",
    "2. Número de **porcas** produzidas  \n",
    "3. Número de **arruelas** produzidas  \n",
    "\n",
    "Dadas as seguintes produções:\n",
    "\n",
    "$$\n",
    "\\text{dia}_A = \\begin{bmatrix} 500 \\\\ 300 \\\\ 200 \\end{bmatrix}, \\quad\n",
    "\\text{dia}_B = \\begin{bmatrix} 400 \\\\ 250 \\\\ 150 \\end{bmatrix}, \\quad\n",
    "\\text{dia}_C = \\begin{bmatrix} 1000 \\\\ 600 \\\\ 400 \\end{bmatrix}\n",
    "$$\n",
    "\n",
    "1. Calcule $\\text{dia}_A + \\text{dia}_B$.\n",
    "\n",
    "2. Calcule $3 \\cdot \\text{dia}_B$.\n",
    "\n",
    "3. Uma empresa deseja prever a produção em um **dia especial** que será uma mistura de 2 vezes o padrão do dia $A$ e 1 vez o padrão do dia $B$. Isso corresponde a calcular:  \n",
    "\n",
    "   $$\n",
    "   \\mathbf{dia}_{especial} = 2 \\cdot \\mathbf{dia}_A + 1 \\cdot \\mathbf{dia}_B\n",
    "   $$\n",
    "\n",
    "Calcule o vetor resultante dessa combinação linear."
   ]
  },
  {
   "cell_type": "markdown",
   "id": "a025cd15",
   "metadata": {},
   "source": [
    "### Norma de Vetores\n",
    "\n",
    "A norma de um vetor, denotada por $\\|\\mathbf{v}\\|$, é uma função que atribui um comprimento ou magnitude positiva ao vetor.\n",
    "\n",
    "- **Norma L2 (Euclidiana)**: É a mais comum e corresponde à noção intuitiva de comprimento no espaço Euclidiano.\n",
    "$$\\|\\mathbf{v}\\|_2 = \\sqrt{\\sum_{i=1}^{n} v_i^2} = \\sqrt{v_1^2 + v_2^2 + \\cdots + v_n^2}$$\n",
    "\n",
    "- **Norma L1 (Manhattan)**: Também conhecida como distância do táxi, é a soma dos valores absolutos dos componentes do vetor.\n",
    "$$\\|\\mathbf{v}\\|_1 = \\sum_{i=1}^{n} |v_i|$$"
   ]
  },
  {
   "cell_type": "code",
   "execution_count": 25,
   "id": "2b98ffc4",
   "metadata": {},
   "outputs": [
    {
     "name": "stdout",
     "output_type": "stream",
     "text": [
      "Vetor v: [ 3 -4]\n",
      "Norma L2 de v: 5.0\n",
      "Norma L1 de v: 7.0\n"
     ]
    }
   ],
   "source": [
    "v = np.array([3, -4])\n",
    "\n",
    "# Norma L2\n",
    "norm_l2 = np.linalg.norm(v, 2)\n",
    "print(f\"Vetor v: {v}\")\n",
    "print(f\"Norma L2 de v: {norm_l2}\")\n",
    "\n",
    "# Norma L1\n",
    "norm_l1 = np.linalg.norm(v, 1)\n",
    "print(f\"Norma L1 de v: {norm_l1}\")"
   ]
  },
  {
   "cell_type": "markdown",
   "id": "0571a0e5",
   "metadata": {},
   "source": [
    "### Normalização de Vetores\n",
    "\n",
    "A normalização de um vetor consiste em dividi-lo pela sua norma (ou comprimento), de forma que o vetor resultante tenha magnitude igual a 1, mas mantenha a mesma direção.  \n",
    "Dado um vetor $\\mathbf{u} \\in \\mathbb{R}^n$, sua versão normalizada é:\n",
    "\n",
    "$$\n",
    "\\hat{\\mathbf{u}} = \\frac{\\mathbf{u}}{\\|\\mathbf{u}\\|_2}\n",
    "$$"
   ]
  },
  {
   "cell_type": "code",
   "execution_count": 26,
   "id": "9bd42ca2",
   "metadata": {},
   "outputs": [
    {
     "name": "stdout",
     "output_type": "stream",
     "text": [
      "Vetor original u = [3 4], norma = 5.00\n",
      "Vetor normalizado û = [0.6 0.8]\n",
      "Vetor original v = [ 1 -2], norma = 2.24\n",
      "Vetor normalizado v̂ = [ 0.4472136  -0.89442719]\n",
      "||û|| = 1.00\n",
      "||v̂|| = 1.00\n"
     ]
    }
   ],
   "source": [
    "u = np.array([3, 4])\n",
    "v = np.array([1, -2])\n",
    "\n",
    "# Norma (comprimento) dos vetores\n",
    "norm_u = np.linalg.norm(u)\n",
    "norm_v = np.linalg.norm(v)\n",
    "\n",
    "# Normalização\n",
    "u_normalized = u / norm_u\n",
    "v_normalized = v / norm_v\n",
    "\n",
    "print(f\"Vetor original u = {u}, norma = {norm_u:.2f}\")\n",
    "print(f\"Vetor normalizado û = {u_normalized}\")\n",
    "\n",
    "print(f\"Vetor original v = {v}, norma = {norm_v:.2f}\")\n",
    "print(f\"Vetor normalizado v̂ = {v_normalized}\")\n",
    "\n",
    "# Verificação: norma do vetor normalizado = 1\n",
    "print(f\"||û|| = {np.linalg.norm(u_normalized):.2f}\")\n",
    "print(f\"||v̂|| = {np.linalg.norm(v_normalized):.2f}\")"
   ]
  },
  {
   "cell_type": "markdown",
   "id": "5051d3a5",
   "metadata": {},
   "source": [
    "### Produto Interno (Dot Product)\n",
    "\n",
    "O produto interno (ou produto escalar) de dois vetores $\\mathbf{u}, \\mathbf{v} \\in \\mathbb{R}^n$ é definido como:\n",
    "\n",
    "$$\\mathbf{u} \\cdot \\mathbf{v} = \\mathbf{u}^T \\mathbf{v} = \\sum_{i=1}^{n} u_i v_i$$\n",
    "\n",
    "Ele possui uma importante relação geométrica com o ângulo $\\theta$ entre os dois vetores:\n",
    "\n",
    "$$\\mathbf{u} \\cdot \\mathbf{v} = \\|\\mathbf{u}\\|_2 \\|\\mathbf{v}\\|_2 \\cos(\\theta)$$\n",
    "\n",
    "A partir dessa relação, podemos inferir que:\n",
    "- Se $\\mathbf{u} \\cdot \\mathbf{v} > 0$, o ângulo $\\theta$ é agudo ($< 90^\\circ$).\n",
    "- Se $\\mathbf{u} \\cdot \\mathbf{v} < 0$, o ângulo $\\theta$ é obtuso ($> 90^\\circ$).\n",
    "- Se $\\mathbf{u} \\cdot \\mathbf{v} = 0$, os vetores são ortogonais ($\\theta = 90^\\circ$)."
   ]
  },
  {
   "cell_type": "code",
   "execution_count": 27,
   "id": "5ca460bb",
   "metadata": {},
   "outputs": [
    {
     "name": "stdout",
     "output_type": "stream",
     "text": [
      "Produto interno u . v = 0 (vetores ortogonais)\n",
      "Produto interno u . w = -12 (mesma direção, sentidos opostos)\n",
      "u @ v = 0\n"
     ]
    }
   ],
   "source": [
    "u = np.array([2, 2])\n",
    "v = np.array([3, -3])\n",
    "w = np.array([-4, -2])\n",
    "\n",
    "# Cálculo do produto interno\n",
    "dot_uv = np.dot(u, v)\n",
    "print(f\"Produto interno u . v = {dot_uv} (vetores ortogonais)\")\n",
    "\n",
    "dot_uw = np.dot(u, w)\n",
    "print(f\"Produto interno u . w = {dot_uw} (mesma direção, sentidos opostos)\")\n",
    "\n",
    "# Verificação via numpy\n",
    "print(f\"u @ v = {u @ v}\")"
   ]
  },
  {
   "cell_type": "markdown",
   "id": "02037cc7",
   "metadata": {},
   "source": [
    "## 1.2 Matrizes\n",
    "\n",
    "### Definição e Notação\n",
    "\n",
    "Uma matriz $A \\in \\mathbb{R}^{m \\times n}$ é um arranjo retangular de números com $m$ linhas e $n$ colunas. Ela é fundamental para representar conjuntos de dados (onde linhas podem ser amostras e colunas, atributos) e transformações lineares.\n",
    "\n",
    "$$\n",
    "A = \\begin{pmatrix}\n",
    "a_{11} & a_{12} & \\cdots & a_{1n} \\\\\n",
    "a_{21} & a_{22} & \\cdots & a_{2n} \\\\\n",
    "\\vdots & \\vdots & \\ddots & \\vdots \\\\\n",
    "a_{m1} & a_{m2} & \\cdots & a_{mn}\n",
    "\\end{pmatrix}\n",
    "$$"
   ]
  },
  {
   "cell_type": "code",
   "execution_count": 28,
   "id": "23cea2eb",
   "metadata": {},
   "outputs": [
    {
     "name": "stdout",
     "output_type": "stream",
     "text": [
      "Matriz A:\n",
      "[[1 2 3]\n",
      " [4 5 6]]\n",
      "Shape da matriz A: (2, 3)\n"
     ]
    }
   ],
   "source": [
    "# Criando matrizes com NumPy\n",
    "A = np.array([[1, 2, 3],\n",
    "              [4, 5, 6]])\n",
    "\n",
    "print(f\"Matriz A:\\n{A}\")\n",
    "print(f\"Shape da matriz A: {A.shape}\")"
   ]
  },
  {
   "cell_type": "markdown",
   "id": "49581306",
   "metadata": {},
   "source": [
    "### Indexação de Matrizes\n",
    "\n",
    "A indexação em matrizes permite acessar elementos individuais, linhas, colunas ou submatrizes.  \n",
    "No NumPy, a convenção é `A[i, j]`, onde `i` é o índice da **linha** e `j` o índice da **coluna**, ambos começando em **0**.\n",
    "\n",
    "Exemplo de uma matriz $A \\in \\mathbb{R}^{3 \\times 3}$:\n",
    "\n",
    "$$\n",
    "A = \\begin{pmatrix}\n",
    "a_{00} & a_{01} & a_{02} \\\\\n",
    "a_{10} & a_{11} & a_{12} \\\\\n",
    "a_{20} & a_{21} & a_{22}\n",
    "\\end{pmatrix}\n",
    "$$\n",
    "\n",
    "- **Elemento individual**: `A[i, j]` retorna o valor na linha `i`, coluna `j`.  \n",
    "- **Linha inteira**: `A[i, :]` retorna todos os elementos da linha `i`.  \n",
    "- **Coluna inteira**: `A[:, j]` retorna todos os elementos da coluna `j`.  \n",
    "- **Submatriz (slice)**: `A[i:j, k:l]` retorna o bloco da linha `i` até `j-1` e da coluna `k` até `l-1`.  "
   ]
  },
  {
   "cell_type": "code",
   "execution_count": 29,
   "id": "a9401d84",
   "metadata": {},
   "outputs": [
    {
     "name": "stdout",
     "output_type": "stream",
     "text": [
      "Matriz A:\n",
      " [[1 2 3]\n",
      " [4 5 6]\n",
      " [7 8 9]]\n"
     ]
    }
   ],
   "source": [
    "A = np.array([[1, 2, 3],\n",
    "              [4, 5, 6],\n",
    "              [7, 8, 9]])\n",
    "\n",
    "print(\"Matriz A:\\n\", A)"
   ]
  },
  {
   "cell_type": "code",
   "execution_count": 30,
   "id": "1ca6bcb5",
   "metadata": {},
   "outputs": [
    {
     "name": "stdout",
     "output_type": "stream",
     "text": [
      "A[0, 1] = 2\n"
     ]
    }
   ],
   "source": [
    "# Elemento individual\n",
    "print(\"A[0, 1] =\", A[0, 1])   # elemento da 1ª linha, 2ª coluna"
   ]
  },
  {
   "cell_type": "code",
   "execution_count": 31,
   "id": "72ec3e70",
   "metadata": {},
   "outputs": [
    {
     "name": "stdout",
     "output_type": "stream",
     "text": [
      "A[1, :] = [4 5 6]\n"
     ]
    }
   ],
   "source": [
    "# Linha inteira\n",
    "print(\"A[1, :] =\", A[1, :])     # 2ª linha"
   ]
  },
  {
   "cell_type": "code",
   "execution_count": 32,
   "id": "562676bc",
   "metadata": {},
   "outputs": [
    {
     "name": "stdout",
     "output_type": "stream",
     "text": [
      "A[:, 2] = [3 6 9]\n"
     ]
    }
   ],
   "source": [
    "# Coluna inteira\n",
    "print(\"A[:, 2] =\", A[:, 2])     # 3ª coluna"
   ]
  },
  {
   "cell_type": "code",
   "execution_count": 33,
   "id": "6e48b555",
   "metadata": {},
   "outputs": [
    {
     "name": "stdout",
     "output_type": "stream",
     "text": [
      "A[0:2, 1:3] =\n",
      " [[2 3]\n",
      " [5 6]]\n"
     ]
    }
   ],
   "source": [
    "# Submatriz (linhas 0 a 1, colunas 1 a 2)\n",
    "print(\"A[0:2, 1:3] =\\n\", A[0:2, 1:3])"
   ]
  },
  {
   "cell_type": "markdown",
   "id": "194f0aff",
   "metadata": {},
   "source": [
    "### Indexação em Múltiplas Dimensões\n",
    "\n",
    "A ideia de indexar elementos, fatias (slices) ou subestruturas pode ser estendida para tensores de **qualquer dimensão**:\n",
    "\n",
    "- **1D (vetor)**: `v[i]` → acessa o elemento na posição `i`.  \n",
    "- **2D (matriz)**: `A[i, j]` → acessa o elemento na linha `i`, coluna `j`.  \n",
    "- **3D (tensor)**: `T[i, j, k]` → acessa o elemento na posição `(i, j, k)`.  \n",
    "- **nD (tensor de ordem n)**: `X[i1, i2, ..., in]` → acessa o elemento na posição indicada por todos os índices.  \n",
    "\n",
    "Do mesmo modo, podemos usar `:` (slices) em cada eixo para pegar **fatias** de qualquer dimensão."
   ]
  },
  {
   "cell_type": "code",
   "execution_count": 34,
   "id": "bf99c545",
   "metadata": {},
   "outputs": [
    {
     "name": "stdout",
     "output_type": "stream",
     "text": [
      "Tensor T (shape = 2x3x3):\n",
      " [[[ 0  1  2]\n",
      "  [ 3  4  5]\n",
      "  [ 6  7  8]]\n",
      "\n",
      " [[ 9 10 11]\n",
      "  [12 13 14]\n",
      "  [15 16 17]]]\n"
     ]
    }
   ],
   "source": [
    "# Criando um tensor 3D (2 blocos, cada um com 3x3)\n",
    "T = np.arange(18).reshape(2, 3, 3)\n",
    "print(\"Tensor T (shape = 2x3x3):\\n\", T)"
   ]
  },
  {
   "cell_type": "code",
   "execution_count": 35,
   "id": "69f6f3a4",
   "metadata": {},
   "outputs": [
    {
     "name": "stdout",
     "output_type": "stream",
     "text": [
      "T[1, 2, 0] = 15\n",
      "\n",
      "T[0, 1, :] = [3 4 5]\n",
      "\n",
      "T[:, :, 2] =\n",
      " [[ 2  5  8]\n",
      " [11 14 17]]\n",
      "\n",
      "T[1, :, :] =\n",
      " [[ 9 10 11]\n",
      " [12 13 14]\n",
      " [15 16 17]]\n"
     ]
    }
   ],
   "source": [
    "# Acessando um elemento individual (bloco 1, linha 2, coluna 0)\n",
    "print(\"T[1, 2, 0] =\", T[1, 2, 0])\n",
    "\n",
    "# Acessando uma \"linha\" inteira no primeiro bloco\n",
    "print(\"\\nT[0, 1, :] =\", T[0, 1, :])\n",
    "\n",
    "# Acessando uma \"coluna\" inteira em todos os blocos\n",
    "print(\"\\nT[:, :, 2] =\\n\", T[:, :, 2])\n",
    "\n",
    "# Acessando um \"bloco\" inteiro\n",
    "print(\"\\nT[1, :, :] =\\n\", T[1, :, :])"
   ]
  },
  {
   "cell_type": "markdown",
   "id": "dbd6bd85",
   "metadata": {},
   "source": [
    "### Operações de Redução em Matrizes\n",
    "\n",
    "Assim como em vetores, podemos aplicar operações de redução em matrizes.  \n",
    "Essas operações resumem os valores da matriz em **um único número** ou em **valores agregados por linha ou coluna**.\n",
    "\n",
    "- **Soma Total**: soma de todos os elementos da matriz.  \n",
    "  $ \\text{sum}(A) = \\sum_{i=1}^m \\sum_{j=1}^n a_{ij} $ \n",
    "\n",
    "- **Média Total**: média de todos os elementos.  \n",
    "  $ \\text{mean}(A) = \\frac{1}{mn} \\sum_{i=1}^m \\sum_{j=1}^n a_{ij} $  \n",
    "\n",
    "- **Soma/Média por Coluna (`axis=0`)**: reduz ao longo das linhas, retornando um vetor com uma operação por **coluna**.  \n",
    "\n",
    "- **Soma/Média por Linha (`axis=1`)**: reduz ao longo das colunas, retornando um vetor com uma operação por **linha**.  \n",
    "\n",
    "Essas operações são muito usadas em ciência de dados, por exemplo, para calcular estatísticas de atributos (colunas) ou de amostras (linhas)."
   ]
  },
  {
   "cell_type": "code",
   "execution_count": 36,
   "id": "8e62788a",
   "metadata": {},
   "outputs": [
    {
     "name": "stdout",
     "output_type": "stream",
     "text": [
      "Matriz A:\n",
      "[[1 2 3]\n",
      " [4 5 6]\n",
      " [7 8 9]]\n"
     ]
    }
   ],
   "source": [
    "A = np.array([[1, 2, 3],\n",
    "              [4, 5, 6],\n",
    "              [7, 8, 9]])\n",
    "\n",
    "print(\"Matriz A:\")\n",
    "print(A)"
   ]
  },
  {
   "cell_type": "code",
   "execution_count": 37,
   "id": "bbcb472a",
   "metadata": {},
   "outputs": [
    {
     "name": "stdout",
     "output_type": "stream",
     "text": [
      "Soma total: 45\n",
      "Média total: 5.0\n"
     ]
    }
   ],
   "source": [
    "# Operações globais\n",
    "print(\"Soma total:\", np.sum(A))\n",
    "print(\"Média total:\", np.mean(A))"
   ]
  },
  {
   "cell_type": "code",
   "execution_count": 38,
   "id": "aca5a4ee",
   "metadata": {},
   "outputs": [
    {
     "name": "stdout",
     "output_type": "stream",
     "text": [
      "Soma por coluna (axis=0): [12 15 18]\n",
      "Média por coluna (axis=0): [4. 5. 6.]\n"
     ]
    }
   ],
   "source": [
    "# Operações por eixo\n",
    "print(\"Soma por coluna (axis=0):\", np.sum(A, axis=0))\n",
    "print(\"Média por coluna (axis=0):\", np.mean(A, axis=0))"
   ]
  },
  {
   "cell_type": "code",
   "execution_count": 39,
   "id": "78c301fd",
   "metadata": {},
   "outputs": [
    {
     "name": "stdout",
     "output_type": "stream",
     "text": [
      "Soma por linha (axis=1): [ 6 15 24]\n",
      "Média por linha (axis=1): [2. 5. 8.]\n"
     ]
    }
   ],
   "source": [
    "print(\"Soma por linha (axis=1):\", np.sum(A, axis=1))\n",
    "print(\"Média por linha (axis=1):\", np.mean(A, axis=1))"
   ]
  },
  {
   "cell_type": "markdown",
   "id": "209028d1",
   "metadata": {},
   "source": [
    "### Multiplicação Matriz-Vetor\n",
    "\n",
    "A multiplicação de uma matriz $A \\in \\mathbb{R}^{m \\times n}$ por um vetor $\\mathbf{x} \\in \\mathbb{R}^{n \\times 1}$ resulta em um novo vetor $\\mathbf{y} \\in \\mathbb{R}^{m \\times 1}$. Essa operação pode ser interpretada como uma **transformação linear**, que mapeia o vetor $\\mathbf{x}$ do espaço $\\mathbb{R}^n$ para o espaço $\\mathbb{R}^m$. Em outras palavras, a matriz $A$ \"atua\" sobre o vetor $\\mathbf{x}$ e o \"transforma\" no vetor $\\mathbf{y}$.\n",
    "\n",
    "$$\\mathbf{y} = A\\mathbf{x}$$\n",
    "\n",
    "Vamos ver um exemplo simples de transformação: o escalonamento. Podemos usar uma matriz para esticar ou encolher um vetor em diferentes direções."
   ]
  },
  {
   "cell_type": "code",
   "execution_count": 40,
   "id": "70624cb9",
   "metadata": {},
   "outputs": [
    {
     "name": "stdout",
     "output_type": "stream",
     "text": [
      "Vetor original p: [1 2]\n",
      "Matriz de Escalonamento S:\n",
      "[[2 0]\n",
      " [0 1]]\n",
      "Vetor escalonado p': [2 2]\n"
     ]
    }
   ],
   "source": [
    "# Transformação Linear: Escalonamento\n",
    "# Esta matriz irá dobrar a componente x e manter a componente y\n",
    "S = np.array([[2, 0],\n",
    "              [0, 1]])\n",
    "\n",
    "p = np.array([1, 2]) # Vetor original\n",
    "\n",
    "# Aplicando a transformação (multiplicação matriz-vetor)\n",
    "p_scaled = S @ p # O operador @ denota multiplicação de matrizes em NumPy\n",
    "\n",
    "print(f\"Vetor original p: {p}\")\n",
    "print(f\"Matriz de Escalonamento S:\\n{S}\")\n",
    "print(f\"Vetor escalonado p': {p_scaled}\")"
   ]
  },
  {
   "cell_type": "code",
   "execution_count": 41,
   "id": "2fada5de",
   "metadata": {},
   "outputs": [
    {
     "data": {
      "image/png": "[encoded data removed]",
      "text/plain": [
       "<Figure size 700x700 with 1 Axes>"
      ]
     },
     "metadata": {},
     "output_type": "display_data"
    }
   ],
   "source": [
    "# Visualização\n",
    "plt.figure(figsize=(7,7))\n",
    "plt.quiver(0, 0, p[0], p[1], angles='xy', scale_units='xy', scale=1, color='b', label='Vetor Original p')\n",
    "plt.quiver(0, 0, p_scaled[0], p_scaled[1], angles='xy', scale_units='xy', scale=1, color='g', label=\"Vetor Escalonado p'\")\n",
    "\n",
    "plt.xlim(-1, 3)\n",
    "plt.ylim(-1, 3)\n",
    "plt.xlabel(\"Eixo X\")\n",
    "plt.ylabel(\"Eixo Y\")\n",
    "plt.title(\"Transformação Linear: Escalonamento\")\n",
    "plt.legend()\n",
    "plt.grid(True)\n",
    "plt.show()"
   ]
  },
  {
   "cell_type": "markdown",
   "id": "60ceaba9",
   "metadata": {},
   "source": [
    "## Exercícios\n",
    "\n",
    "**Cenário: Perfil de Recomendação de Músicas**\n",
    "\n",
    "Um sistema de streaming caracteriza músicas por `energia` e `dançabilidade` (valores de 0 a 1). O gosto de um usuário, \"Bia\", é representado por um vetor de preferência  \n",
    "\n",
    "$$\n",
    "\\mathbf{p} = [0.8, \\, 0.3],\n",
    "$$\n",
    "\n",
    "indicando que ela gosta de músicas energéticas, mas não tão dançantes.\n",
    "\n",
    "1. **Normalização dos Vetores**  \n",
    "   Calcule a norma de cada vetor ($\\mathbf{p}, \\mathbf{m}_A, \\mathbf{m}_B$) e normalize-os dividindo cada vetor pela sua norma.  \n",
    "   - Música A (Rock): $$\\mathbf{m}_A = [0.9, \\, 0.2]$$  \n",
    "   - Música B (Pop): $$\\mathbf{m}_B = [0.7, \\, 0.9]$$  \n",
    "\n",
    "   Compare os vetores originais e os normalizados: houve mudanças relevantes de interpretação?\n",
    "\n",
    "2. **Alinhamento por Produto Interno**  \n",
    "   Calcule o produto interno entre o vetor de preferência $\\mathbf{p}$ e cada vetor de música:  \n",
    "\n",
    "   $$\n",
    "   \\mathbf{p} \\cdot \\mathbf{m}_A, \\quad \\mathbf{p} \\cdot \\mathbf{m}_B\n",
    "   $$\n",
    "\n",
    "   Qual produto interno é maior? Com base apenas neste resultado, qual música o sistema deveria recomendar?\n",
    "\n",
    "3. **Transformação de Perfil**  \n",
    "   Para incentivar Bia a explorar novas músicas, o sistema aplica uma transformação que aumenta a preferência por dançabilidade:  \n",
    "\n",
    "   $$\n",
    "   T = \\begin{pmatrix} 1 & 0 \\\\ 0.4 & 1 \\end{pmatrix}\n",
    "   $$\n",
    "\n",
    "   Calcule o novo vetor de preferência de Bia:  \n",
    "\n",
    "   $$\n",
    "   \\mathbf{p'} = T \\mathbf{p}.\n",
    "   $$\n",
    "\n",
    "   Normalize $\\mathbf{p'}$ e discuta como o vetor mudou em relação ao original. Qual aspecto do gosto foi reforçado?"
   ]
  },
  {
   "cell_type": "code",
   "execution_count": 42,
   "id": "7d418a81",
   "metadata": {},
   "outputs": [],
   "source": [
    "import numpy as np\n",
    "import math\n",
    "\n",
    "p = np.array([0.8, 0.3])\n",
    "mA = np.array([0.9, 0.2])\n",
    "mB = np.array([0.7, 0.9])\n",
    "\n",
    "def norm(v): return np.linalg.norm(v)\n",
    "def normalize(v): return v / norm(v)"
   ]
  },
  {
   "cell_type": "code",
   "execution_count": 43,
   "id": "193161e2",
   "metadata": {},
   "outputs": [
    {
     "name": "stdout",
     "output_type": "stream",
     "text": [
      "||p|| = 0.8544003745317532\n",
      "||mA|| = 0.9219544457292888\n",
      "||mB|| = 1.140175425099138\n",
      "p normalized = [0.93632918 0.35112344]\n",
      "mA normalized = [0.97618706 0.21693046]\n",
      "mB normalized = [0.61394061 0.78935222]\n"
     ]
    }
   ],
   "source": [
    "# normas\n",
    "print(\"||p|| =\", norm(p))\n",
    "print(\"||mA|| =\", norm(mA))\n",
    "print(\"||mB|| =\", norm(mB))\n",
    "\n",
    "# normalizados\n",
    "p_n = normalize(p)\n",
    "mA_n = normalize(mA)\n",
    "mB_n = normalize(mB)\n",
    "print(\"p normalized =\", p_n)\n",
    "print(\"mA normalized =\", mA_n)\n",
    "print(\"mB normalized =\", mB_n)"
   ]
  },
  {
   "cell_type": "code",
   "execution_count": 44,
   "id": "f5bb69e3",
   "metadata": {},
   "outputs": [
    {
     "name": "stdout",
     "output_type": "stream",
     "text": [
      "p·mA = 0.78\n",
      "p·mB = 0.83\n",
      "cos(p,mA) = 0.9902017961502158\n",
      "cos(p,mB) = 0.8520105769192639\n"
     ]
    }
   ],
   "source": [
    "# produtos internos (brutos)\n",
    "print(\"p·mA =\", p.dot(mA))\n",
    "print(\"p·mB =\", p.dot(mB))\n",
    "\n",
    "# produtos entre normalizados (cosine)\n",
    "print(\"cos(p,mA) =\", p_n.dot(mA_n))\n",
    "print(\"cos(p,mB) =\", p_n.dot(mB_n))"
   ]
  },
  {
   "cell_type": "code",
   "execution_count": 45,
   "id": "1f1f71ee",
   "metadata": {},
   "outputs": [
    {
     "name": "stdout",
     "output_type": "stream",
     "text": [
      "p' = [0.8  0.62]\n",
      "p' normalized = [0.79041505 0.61257167]\n",
      "p'·mA = 0.8440000000000001\n",
      "p'·mB = 1.1179999999999999\n",
      "cos(p', mA) = 0.9044783979378245\n",
      "cos(p', mB) = 0.9688027044775656\n"
     ]
    }
   ],
   "source": [
    "# transformação\n",
    "T = np.array([[1,0],[0.4,1]])\n",
    "p_prime = T.dot(p)\n",
    "p_prime_n = normalize(p_prime)\n",
    "print(\"p' =\", p_prime)\n",
    "print(\"p' normalized =\", p_prime_n)\n",
    "print(\"p'·mA =\", p_prime.dot(mA))\n",
    "print(\"p'·mB =\", p_prime.dot(mB))\n",
    "print(\"cos(p', mA) =\", p_prime_n.dot(mA_n))\n",
    "print(\"cos(p', mB) =\", p_prime_n.dot(mB_n))"
   ]
  },
  {
   "cell_type": "markdown",
   "id": "bf0cec64",
   "metadata": {},
   "source": [
    "# 2. Distâncias e Similaridades\n",
    "\n",
    "Em aprendizagem não supervisionada, a noção de \"proximidade\" é central. Medimos essa proximidade usando métricas de distância ou de similaridade.\n",
    "\n",
    "## 2.1 Distância Euclidiana\n",
    "\n",
    "Corresponde à norma L2 da diferença entre dois vetores $\\mathbf{p}$ e $\\mathbf{q}$. É a distância em linha reta entre dois pontos.\n",
    "\n",
    "$$d_E(\\mathbf{p}, \\mathbf{q}) = \\|\\mathbf{p} - \\mathbf{q}\\|_2 = \\sqrt{\\sum_{i=1}^{n} (p_i - q_i)^2}$$"
   ]
  },
  {
   "cell_type": "code",
   "execution_count": null,
   "id": "7d28ddeb",
   "metadata": {},
   "outputs": [],
   "source": [
    "p = np.array([1, 1])\n",
    "q = np.array([5, 4])\n",
    "\n",
    "dist_euclidiana = np.linalg.norm(p - q)\n",
    "print(f\"Distância Euclidiana entre p e q: {dist_euclidiana:.2f}\")\n",
    "\n",
    "# Visualização\n",
    "plt.figure(figsize=(6,6))\n",
    "plt.plot([p[0], q[0]], [p[1], q[1]], 'r--', label='Distância Euclidiana')\n",
    "plt.plot(p[0], p[1], 'bo', label='Ponto p')\n",
    "plt.plot(q[0], q[1], 'go', label='Ponto q')\n",
    "plt.title(\"Distância Euclidiana\")\n",
    "plt.legend()\n",
    "plt.grid(True)\n",
    "plt.show()"
   ]
  },
  {
   "cell_type": "markdown",
   "id": "4d58999f",
   "metadata": {},
   "source": [
    "## 2.2 Similaridade do Cosseno\n",
    "\n",
    "Enquanto a distância Euclidiana mede a separação espacial, a similaridade do cosseno mede a similaridade de orientação (ângulo) entre dois vetores, independentemente de suas magnitudes. Ela é calculada a partir da equação do produto interno:\n",
    "\n",
    "$$\\text{sim}(\\mathbf{u}, \\mathbf{v}) = \\cos(\\theta) = \\frac{\\mathbf{u} \\cdot \\mathbf{v}}{\\|\\mathbf{u}\\|_2 \\|\\mathbf{v}\\|_2}$$\n",
    "\n",
    "O valor varia de -1 (vetores exatamente opostos) a 1 (vetores com mesma orientação). Um valor de 0 indica ortogonalidade. É amplamente utilizada em processamento de texto, onde a magnitude do vetor (e.g., contagem de palavras) pode ser menos importante que a proporção das palavras."
   ]
  },
  {
   "cell_type": "code",
   "execution_count": null,
   "id": "cf33c1f9",
   "metadata": {},
   "outputs": [],
   "source": [
    "# Vetores representando documentos\n",
    "doc1 = np.array([1, 1, 0, 1, 0]) # Documento sobre \"machine learning\"\n",
    "doc2 = np.array([1, 1, 1, 0, 0]) # Documento sobre \"deep learning\"\n",
    "doc3 = np.array([0, 0, 0, 0, 5]) # Documento sobre \"sports\"\n",
    "\n",
    "def cosine_similarity(u, v):\n",
    "    dot_product = np.dot(u, v)\n",
    "    norm_u = np.linalg.norm(u)\n",
    "    norm_v = np.linalg.norm(v)\n",
    "    return dot_product / (norm_u * norm_v)\n",
    "\n",
    "sim_12 = cosine_similarity(doc1, doc2)\n",
    "sim_13 = cosine_similarity(doc1, doc3)\n",
    "\n",
    "print(f\"Similaridade entre doc1 e doc2: {sim_12:.2f} (Relativamente similares)\")\n",
    "print(f\"Similaridade entre doc1 e doc3: {sim_13:.2f} (Não similares/ortogonais)\")"
   ]
  },
  {
   "cell_type": "markdown",
   "id": "b2cf54c8",
   "metadata": {},
   "source": [
    "## Exercícios\n",
    "\n",
    "**Cenário: Similaridade em um Sistema de Recomendação**\n",
    "\n",
    "Nos sistemas de recomendação modernos, raramente utilizamos atributos explícitos e criados por humanos, como `gênero=Ação` ou `diretor=Nolan`. Em vez disso, os algoritmos aprendem representações vetoriais densas tanto para usuários quanto para itens. Esses vetores são chamados de **embeddings**. As dimensões desses vetores, conhecidas como **features latentes**, não possuem um significado direto e interpretável para nós. Por exemplo, a 15ª dimensão do vetor de um filme não representa \"nível de comédia\", mas sim um padrão abstrato de características que o modelo descobriu ser útil para distinguir os gostos dos usuários.\n",
    "\n",
    "Um sistema de recomendação representa filmes usando duas features latentes. Um filme assistido por um usuário servirá como referência para a próxima sugestão.\n",
    "\n",
    "* Filme de Referência: `filme_ref = [0.95, 0.20]`\n",
    "* Candidato A: `filme_A = [0.88, 0.25]`\n",
    "* Candidato B: `filme_B = [0.48, 0.10]`\n",
    "\n",
    "1. A **Distância Euclidiana** mede a \"proximidade\" geral entre os filmes neste espaço de features. Uma distância menor indica maior similaridade. Calcule a distância do `filme_ref` para cada candidato. Qual deles é o mais próximo?\n",
    "\n",
    "2. A **Similaridade de Cosseno** mede se os filmes compartilham um \"perfil\" similar, ou seja, a mesma proporção entre as features, independentemente de suas magnitudes. Um valor próximo de 1 indica um perfil muito alinhado. Calcule a similaridade de cosseno do `filme_ref` para cada candidato. Qual deles tem o perfil mais similar? A recomendação seria a mesma usando esta métrica?"
   ]
  },
  {
   "cell_type": "code",
   "execution_count": 46,
   "id": "405bbaa9",
   "metadata": {},
   "outputs": [],
   "source": [
    "import numpy as np\n",
    "import matplotlib.pyplot as plt\n",
    "import math\n",
    "\n",
    "# Dados do problema\n",
    "filme_ref = np.array([0.95, 0.20])\n",
    "filme_A   = np.array([0.88, 0.25])\n",
    "filme_B   = np.array([0.48, 0.10])\n",
    "\n",
    "# Distância Euclidiana\n",
    "def distancia_euclidiana(x, y):\n",
    "    return np.linalg.norm(x - y)\n",
    "\n",
    "def similaridade_cosseno(x, y):\n",
    "    return np.dot(x, y) / (np.linalg.norm(x) * np.linalg.norm(y))"
   ]
  },
  {
   "cell_type": "code",
   "execution_count": 47,
   "id": "a464c8a8",
   "metadata": {},
   "outputs": [],
   "source": [
    "\n",
    "dist_A = distancia_euclidiana(filme_ref, filme_A)\n",
    "dist_B = distancia_euclidiana(filme_ref, filme_B)"
   ]
  },
  {
   "cell_type": "code",
   "execution_count": 48,
   "id": "58fb853d",
   "metadata": {},
   "outputs": [],
   "source": [
    "cos_A = similaridade_cosseno(filme_ref, filme_A)\n",
    "cos_B = similaridade_cosseno(filme_ref, filme_B)"
   ]
  },
  {
   "cell_type": "code",
   "execution_count": 49,
   "id": "3705c2d3",
   "metadata": {},
   "outputs": [],
   "source": [
    "angulo_A = math.degrees(math.acos(cos_A))\n",
    "angulo_B = math.degrees(math.acos(cos_B))"
   ]
  },
  {
   "cell_type": "code",
   "execution_count": 50,
   "id": "bc700eeb",
   "metadata": {},
   "outputs": [
    {
     "name": "stdout",
     "output_type": "stream",
     "text": [
      "=== Distância Euclidiana ===\n",
      "ref -> A: 0.086\n",
      "ref -> B: 0.481\n",
      "\n",
      "=== Similaridade de Cosseno ===\n",
      "ref -> A: 0.998  (ângulo: 3.97°)\n",
      "ref -> B: 1.000  (ângulo: 0.12°)\n"
     ]
    }
   ],
   "source": [
    "print(\"=== Distância Euclidiana ===\")\n",
    "print(f\"ref -> A: {dist_A:.3f}\")\n",
    "print(f\"ref -> B: {dist_B:.3f}\")\n",
    "\n",
    "print(\"\\n=== Similaridade de Cosseno ===\")\n",
    "print(f\"ref -> A: {cos_A:.3f}  (ângulo: {angulo_A:.2f}°)\")\n",
    "print(f\"ref -> B: {cos_B:.3f}  (ângulo: {angulo_B:.2f}°)\")\n"
   ]
  },
  {
   "cell_type": "code",
   "execution_count": 51,
   "id": "dab72992",
   "metadata": {},
   "outputs": [
    {
     "data": {
      "image/png": "[encoded data removed]",
      "text/plain": [
       "<Figure size 600x600 with 1 Axes>"
      ]
     },
     "metadata": {},
     "output_type": "display_data"
    }
   ],
   "source": [
    "plt.figure(figsize=(6,6))\n",
    "plt.scatter(filme_ref[0], filme_ref[1], c='red', label=\"Filme Ref\", s=120, marker='X')\n",
    "plt.scatter(filme_A[0], filme_A[1], c='blue', label=\"Filme A\", s=80)\n",
    "plt.scatter(filme_B[0], filme_B[1], c='green', label=\"Filme B\", s=80)\n",
    "\n",
    "# Linhas para distâncias\n",
    "plt.plot([filme_ref[0], filme_A[0]], [filme_ref[1], filme_A[1]], 'b--', alpha=0.7)\n",
    "plt.plot([filme_ref[0], filme_B[0]], [filme_ref[1], filme_B[1]], 'g--', alpha=0.7)\n",
    "\n",
    "plt.title(\"Similaridade de Filmes (Espaço Latente)\")\n",
    "plt.xlabel(\"Feature 1\")\n",
    "plt.ylabel(\"Feature 2\")\n",
    "plt.legend()\n",
    "plt.grid(True)\n",
    "plt.show()"
   ]
  },
  {
   "cell_type": "markdown",
   "id": "616a10d0",
   "metadata": {},
   "source": [
    "# 3. Conjuntos de Dados\n",
    "\n",
    "## 3.1 Matrizes de Dados\n",
    "\n",
    "Normalmente, um conjunto de dados com $m$ amostras (observações) e $n$ atributos (features) é representado por uma matriz de dados $X \\in \\mathbb{R}^{m \\times n}$.\n",
    "\n",
    "$$\n",
    "X = \\begin{pmatrix}\n",
    "x_{11} & x_{12} & \\cdots & x_{1n} \\\\\n",
    "x_{21} & x_{22} & \\cdots & x_{2n} \\\\\n",
    "\\vdots & \\vdots & \\ddots & \\vdots \\\\\n",
    "x_{m1} & x_{m2} & \\cdots & x_{mn}\n",
    "\\end{pmatrix}\n",
    "=\n",
    "\\begin{pmatrix}\n",
    "- & \\mathbf{x}_1^T & - \\\\\n",
    "- & \\mathbf{x}_2^T & - \\\\\n",
    "& \\vdots & \\\\\n",
    "- & \\mathbf{x}_m^T & -\n",
    "\\end{pmatrix}\n",
    "$$\n",
    "\n",
    "Cada linha $\\mathbf{x}_i^T$ é um vetor de características para a amostra $i$. A convenção universal é a seguinte:\n",
    "\n",
    "- **Linhas representam Amostras (ou Observações)**: Cada linha na matriz corresponde a um item individual que estamos observando. Se tivermos um dataset de pacientes, cada linha é um paciente. Se for sobre casas, cada linha é uma casa.\n",
    "\n",
    "- **Colunas representam Atributos (ou Features)**: Cada coluna representa uma característica específica que medimos para cada amostra. Para os pacientes, as colunas poderiam ser `idade`, `peso`, `altura`. Para as casas, poderiam ser `área_em_m²`, `numero_de_quartos`, `preco`."
   ]
  },
  {
   "cell_type": "markdown",
   "id": "54a9a098",
   "metadata": {},
   "source": [
    "### Exemplo Prático: Um Dataset de Imóveis\n",
    "\n",
    "Imagine que coletamos dados de 4 imóveis. Para cada um, anotamos sua área em metros quadrados (`m²`) e o número de quartos. Podemos organizar esses dados em uma matriz $X \\in \\mathbb{R}^{4 \\times 2}$, pois temos 4 amostras (imóveis) e 2 atributos.\n",
    "\n",
    "$$\n",
    "X = \\begin{pmatrix}\n",
    "\\text{área} & \\text{quartos} \\\\\n",
    "\\hline\n",
    "80 & 2 \\\\\n",
    "150 & 3 \\\\\n",
    "110 & 3 \\\\\n",
    "95 & 2\n",
    "\\end{pmatrix}\n",
    "$$\n",
    "\n",
    "A primeira linha, o vetor $\\mathbf{x}_1^T = [80, 2]$, é o *feature vector* que representa o primeiro imóvel."
   ]
  },
  {
   "cell_type": "code",
   "execution_count": null,
   "id": "5eb604fa",
   "metadata": {},
   "outputs": [],
   "source": [
    "# Criando a matriz de dados do exemplo de imóveis com NumPy\n",
    "\n",
    "imoveis_data = np.array([\n",
    "    [80, 2],    # Imóvel 1\n",
    "    [150, 3],   # Imóvel 2\n",
    "    [110, 3],   # Imóvel 3\n",
    "    [95, 2]     # Imóvel 4\n",
    "])\n",
    "\n",
    "print(\"Matriz de Dados (Imóveis):\\n\", imoveis_data)\n",
    "\n",
    "# A função .shape nos confirma as dimensões: (linhas, colunas)\n",
    "print(\"\\nDimensões da matriz (amostras, atributos):\", imoveis_data.shape)"
   ]
  },
  {
   "cell_type": "markdown",
   "id": "10129c25",
   "metadata": {},
   "source": [
    "### Um Exemplo Clássico: O Dataset Iris\n",
    "\n",
    "Um dos datasets mais famosos para iniciantes em Machine Learning é o \"Iris\", que contém medições de 150 flores da espécie Íris. Cada flor (amostra) é descrita por 4 características (atributos):\n",
    "\n",
    "1.  Comprimento da sépala (em cm)\n",
    "2.  Largura da sépala (em cm)\n",
    "3.  Comprimento da pétala (em cm)\n",
    "4.  Largura da pétala (em cm)\n",
    "\n",
    "A matriz de dados $X$ para este dataset terá as dimensões $150 \\times 4$. Vamos carregar os dados e, em seguida, visualizar duas de suas características (comprimento e largura da pétala) em um gráfico de dispersão (*scatter plot*).\n",
    "\n",
    "**Pergunta:** Olhando para os pontos, você consegue identificar visualmente a presença de grupos distintos? Quantos grupos você diria que existem?"
   ]
  },
  {
   "cell_type": "code",
   "execution_count": null,
   "id": "5bf94ab7",
   "metadata": {},
   "outputs": [],
   "source": [
    "from sklearn.datasets import load_iris\n",
    "\n",
    "# Carregando o dataset\n",
    "iris = load_iris()\n",
    "X_iris = iris.data\n",
    "\n",
    "# Verificando as dimensões da matriz de dados\n",
    "print(\"Dimensões da matriz de dados do Iris:\", X_iris.shape)\n",
    "\n",
    "# Exibindo as 5 primeiras amostras (as 5 primeiras linhas da matriz)\n",
    "print(\"\\nAs 5 primeiras flores do dataset Iris:\\n\", X_iris[:5, :])\n",
    "print(\"\\n(Colunas: comp. sépala, larg. sépala, comp. pétala, larg. pétala)\")"
   ]
  },
  {
   "cell_type": "code",
   "execution_count": null,
   "id": "28562bd8",
   "metadata": {},
   "outputs": [],
   "source": [
    "# Vamos visualizar duas features: comprimento da pétala (coluna 2) e largura da pétala (coluna 3)\n",
    "plt.figure(figsize=(10, 7))\n",
    "plt.scatter(X_iris[:, 2], X_iris[:, 3], s=50, alpha=0.7)\n",
    "\n",
    "plt.title('Dataset Iris: Existe Alguma Estrutura Oculta?', fontsize=16)\n",
    "plt.xlabel('Comprimento da Pétala (cm)', fontsize=12)\n",
    "plt.ylabel('Largura da Pétala (cm)', fontsize=12)\n",
    "plt.grid(True)\n",
    "plt.show()"
   ]
  },
  {
   "cell_type": "markdown",
   "id": "d4c86023",
   "metadata": {},
   "source": [
    "### Revelando os Grupos\n",
    "\n",
    "Como este é um dataset clássico usado para ensino, nós temos acesso às \"respostas\": a espécie real de cada flor. Agora, vamos plotar o mesmo gráfico, mas colorindo cada ponto de acordo com sua espécie. Isso nos permite verificar se a estrutura que intuímos visualmente corresponde aos agrupamentos reais."
   ]
  },
  {
   "cell_type": "code",
   "execution_count": null,
   "id": "3eb14574",
   "metadata": {},
   "outputs": [],
   "source": [
    "# O objeto 'iris' já contém os rótulos (a espécie de cada flor) em iris.target\n",
    "y_iris = iris.target\n",
    "\n",
    "plt.figure(figsize=(10, 7))\n",
    "# Usamos o parâmetro 'c=y_iris' para que o matplotlib use os rótulos para colorir os pontos\n",
    "scatter = plt.scatter(X_iris[:, 2], X_iris[:, 3], c=y_iris, s=50, alpha=0.8, cmap='viridis')\n",
    "\n",
    "plt.title('Dataset Iris: Classes Reais Reveladas', fontsize=16)\n",
    "plt.xlabel('Comprimento da Pétala (cm)', fontsize=12)\n",
    "plt.ylabel('Largura da Pétala (cm)', fontsize=12)\n",
    "plt.grid(True)\n",
    "\n",
    "# Adicionando uma legenda para clareza\n",
    "plt.legend(handles=scatter.legend_elements()[0], labels=list(iris.target_names))\n",
    "\n",
    "plt.show()"
   ]
  },
  {
   "cell_type": "markdown",
   "id": "7dd7edd0",
   "metadata": {},
   "source": [
    "## Exercícios\n",
    "\n",
    "**Cenário: Monitoramento de Tráfego de API**\n",
    "\n",
    "Uma equipe de engenharia de software monitora o uso de sua API, registrando o número de requisições de leitura (`GET`) e de escrita (`POST`) a cada hora durante um pico de uso.\n",
    "\n",
    "* Hora 1: 1500 GETs, 400 POSTs\n",
    "* Hora 2: 1800 GETs, 550 POSTs\n",
    "* Hora 3: 1650 GETs, 480 POSTs\n",
    "* Hora 4 (pico): 2500 GETs, 1200 POSTs\n",
    "\n",
    "1. **Estruturação dos Logs:**  \n",
    "a) Crie uma matriz de dados `api_log` no NumPy para organizar essa informação. As linhas devem representar as horas e as colunas os tipos de requisição.  \n",
    "b) Imprima a matriz e seu `shape` para confirmar a estrutura.  \n",
    "\n",
    "2. **Análise de Performance:**  \n",
    "Usando a matriz `api_log` e as funções do NumPy, responda às seguintes questões para o período monitorado:  \n",
    "a) Qual foi o **número total** de requisições `GET` que o servidor processou?  \n",
    "b) Qual foi a **média** de requisições `POST` por hora?  \n",
    "c) Durante a Hora 4 (pico), qual foi o **tráfego total** (soma de GETs e POSTs) que a API recebeu?  "
   ]
  },
  {
   "cell_type": "code",
   "execution_count": 52,
   "id": "f92848ff",
   "metadata": {},
   "outputs": [
    {
     "name": "stdout",
     "output_type": "stream",
     "text": [
      "[[1500  400]\n",
      " [1800  550]\n",
      " [1650  480]\n",
      " [2500 1200]]\n",
      "Shape da matriz: (4, 2)\n"
     ]
    }
   ],
   "source": [
    "import numpy as np\n",
    "\n",
    "api_log = np.array([\n",
    "    [1500, 400],\n",
    "    [1800, 550],\n",
    "    [1650, 480],\n",
    "    [2500, 1200]\n",
    "])\n",
    "\n",
    "print(api_log)\n",
    "print(\"Shape da matriz:\", api_log.shape)"
   ]
  },
  {
   "cell_type": "code",
   "execution_count": 53,
   "id": "75e100ab",
   "metadata": {},
   "outputs": [
    {
     "name": "stdout",
     "output_type": "stream",
     "text": [
      "Total de GETs: 7450\n"
     ]
    }
   ],
   "source": [
    "total_get = np.sum(api_log[:, 0])\n",
    "print(\"Total de GETs:\", total_get)"
   ]
  },
  {
   "cell_type": "code",
   "execution_count": 54,
   "id": "ff2c0a03",
   "metadata": {},
   "outputs": [
    {
     "name": "stdout",
     "output_type": "stream",
     "text": [
      "Média de POSTs por hora: 657.5\n"
     ]
    }
   ],
   "source": [
    "media_post = np.mean(api_log[:, 1])\n",
    "print(\"Média de POSTs por hora:\", media_post)"
   ]
  },
  {
   "cell_type": "code",
   "execution_count": 55,
   "id": "3824952e",
   "metadata": {},
   "outputs": [
    {
     "name": "stdout",
     "output_type": "stream",
     "text": [
      "Tráfego total na Hora 4: 3700\n"
     ]
    }
   ],
   "source": [
    "trafego_hora4 = np.sum(api_log[3])\n",
    "print(\"Tráfego total na Hora 4:\", trafego_hora4)"
   ]
  },
  {
   "cell_type": "markdown",
   "id": "fd28e3f4",
   "metadata": {},
   "source": [
    "# 4. Noção de Estrutura e Agrupamento\n",
    "\n",
    "## 4.1 O que Significa \"Encontrar Grupos\"?\n",
    "\n",
    "O objetivo central do agrupamento (*clustering*) é descobrir uma estrutura inerente em dados não rotulados. Imagine que você recebe uma caixa com diversas frutas misturadas. Sem nenhuma etiqueta, você naturalmente começaria a separá-las em grupos: maçãs com maçãs, bananas com bananas, e assim por diante.\n",
    "\n",
    "Você faz isso com base nas *características* das frutas: cor, formato, tamanho. Em Machine Learning, o processo é análogo. O algoritmo \"olha\" para os atributos (as colunas da nossa matriz de dados) de cada amostra e tenta organizá-las em grupos, ou *clusters*, onde os membros de um grupo são mais parecidos entre si do que com os membros de outros grupos."
   ]
  },
  {
   "cell_type": "markdown",
   "id": "f4c75b53",
   "metadata": {},
   "source": [
    "## 4.2 Definindo Proximidade no Espaço de Atributos\n",
    "\n",
    "Como um computador mede a \"similaridade\" entre duas amostras? Ele faz isso calculando a **distância** entre seus vetores de atributos em um espaço n-dimensional.\n",
    "\n",
    "Se cada amostra é um ponto nesse espaço, podemos usar a Distância Euclidiana (que já vimos) para determinar o quão \"próximos\" dois pontos estão. A intuição é simples: pontos que estão próximos uns dos outros no espaço de atributos são considerados similares e, portanto, provavelmente pertencem ao mesmo cluster."
   ]
  },
  {
   "cell_type": "markdown",
   "id": "db01067d",
   "metadata": {},
   "source": [
    "### Clusters Claramente Separados\n",
    "\n",
    "Vamos gerar alguns dados em um espaço 2D onde os grupos são visualmente óbvios. Este é o cenário ideal para um algoritmo de agrupamento, onde a separação entre os clusters é grande e a coesão dentro de cada cluster é alta."
   ]
  },
  {
   "cell_type": "code",
   "execution_count": null,
   "id": "92935e4d",
   "metadata": {},
   "outputs": [],
   "source": [
    "from sklearn.datasets import make_blobs\n",
    "\n",
    "# Gerando dados com 3 clusters bem definidos\n",
    "# O y_blobs contém os rótulos verdadeiros, que usamos aqui apenas para colorir o gráfico\n",
    "# Em um problema real, não teríamos acesso a 'y_blobs'\n",
    "X_blobs, y_blobs = make_blobs(n_samples=200, centers=3, cluster_std=1.0, random_state=42)"
   ]
  },
  {
   "cell_type": "code",
   "execution_count": null,
   "id": "6bd4e3cf",
   "metadata": {},
   "outputs": [],
   "source": [
    "# Plotando os dados\n",
    "plt.figure(figsize=(8, 6))\n",
    "plt.scatter(X_blobs[:, 0], X_blobs[:, 1], c=y_blobs, s=50, cmap='viridis')\n",
    "plt.title('Dados com Grupos Visualmente Evidentes')\n",
    "plt.xlabel('Feature 1')\n",
    "plt.ylabel('Feature 2')\n",
    "plt.grid(True)\n",
    "plt.show()"
   ]
  },
  {
   "cell_type": "markdown",
   "id": "9971e717",
   "metadata": {},
   "source": [
    "### Centróides\n",
    "\n",
    "O **centróide** de um cluster é o ponto médio de todos os vetores (ou amostras) pertencentes a ele.  \n",
    "Matematicamente, para um conjunto de pontos $\\{\\mathbf{x}_1, \\mathbf{x}_2, \\dots, \\mathbf{x}_m\\}$ em $\\mathbb{R}^n$, o centróide é dado por:\n",
    "\n",
    "$$\n",
    "\\mathbf{c} = \\frac{1}{m} \\sum_{i=1}^{m} \\mathbf{x}_i\n",
    "$$\n",
    "\n",
    "Ou seja, é simplesmente a média de todas as coordenadas dos pontos dentro de um cluster.  \n",
    "Ele representa a \"posição central\" daquele grupo e é amplamente usado em algoritmos de aprendizado não supervisionado, como o **K-Means**."
   ]
  },
  {
   "cell_type": "code",
   "execution_count": null,
   "id": "f11d8f3f",
   "metadata": {},
   "outputs": [],
   "source": [
    "# Calculando centróides manualmente\n",
    "centroids = []\n",
    "for cluster_id in np.unique(y_blobs):\n",
    "    points = X_blobs[y_blobs == cluster_id]\n",
    "    centroid = points.mean(axis=0)\n",
    "    centroids.append(centroid)\n",
    "    print(f\"Cluster {cluster_id}: centróide = {centroid}\")\n",
    "\n",
    "# Convertendo para array para usar em visualizações\n",
    "centroids = np.array(centroids)\n",
    "\n",
    "# Plotando dados e centróides\n",
    "plt.figure(figsize=(8, 6))\n",
    "plt.scatter(X_blobs[:, 0], X_blobs[:, 1], c=y_blobs, s=50, cmap='viridis', alpha=0.6)\n",
    "plt.scatter(centroids[:, 0], centroids[:, 1], c='red', s=200, marker='X', label='Centróides')\n",
    "plt.title('Clusters e seus Centróides')\n",
    "plt.xlabel('Feature 1')\n",
    "plt.ylabel('Feature 2')\n",
    "plt.legend()\n",
    "plt.grid(True)\n",
    "plt.show()"
   ]
  },
  {
   "cell_type": "markdown",
   "id": "a84f0ec1",
   "metadata": {},
   "source": [
    "### O Desafio das Estruturas Complexas\n",
    "\n",
    "O mundo real raramente é tão organizado quanto o exemplo anterior. Os \"grupos\" nos dados podem ter formatos que não são simplesmente esféricos ou podem estar muito próximos uns dos outros.\n",
    "\n",
    "- E se um cluster tiver o formato de uma lua ou um anel?\n",
    "- E se os clusters tiverem densidades diferentes (um muito espalhado e outro muito concentrado)?\n",
    "\n",
    "Algoritmos simples, baseados apenas em distância do centro do cluster, podem falhar nesses cenários mais complexos."
   ]
  },
  {
   "cell_type": "code",
   "execution_count": null,
   "id": "7f350cbc",
   "metadata": {},
   "outputs": [],
   "source": [
    "from sklearn.datasets import make_moons\n",
    "\n",
    "# Gerando dados com estruturas não-esféricas (formato de luas)\n",
    "X_moons, y_moons = make_moons(n_samples=200, noise=0.1, random_state=42)"
   ]
  },
  {
   "cell_type": "code",
   "execution_count": null,
   "id": "7f31ca80",
   "metadata": {},
   "outputs": [],
   "source": [
    "# Plotando os dados\n",
    "plt.figure(figsize=(8, 6))\n",
    "plt.scatter(X_moons[:, 0], X_moons[:, 1], c=y_moons, s=50, cmap='viridis')\n",
    "plt.title('Dados com Estrutura Não-Linear (Luas)')\n",
    "plt.xlabel('Feature 1')\n",
    "plt.ylabel('Feature 2')\n",
    "plt.grid(True)\n",
    "plt.show()"
   ]
  },
  {
   "cell_type": "markdown",
   "id": "1ca106cb",
   "metadata": {},
   "source": [
    "## Exercícios\n",
    "\n",
    "**Cenário: Controle de Qualidade de Café**\n",
    "\n",
    "Uma cooperativa de café usa uma máquina para classificar grãos com base em duas características medidas por um sensor óptico: `intensidade da cor` e `tamanho do grão`. Grãos de alta qualidade tendem a ter características diferentes dos grãos de baixa qualidade.\n",
    "\n",
    "1. **Simulação e Visualização**\n",
    "\n",
    "    a) Simule os dados de uma amostra de grãos. Use `make_blobs` para criar dois grupos de pontos:  \n",
    "\n",
    "    * **Alta Qualidade:** 80 grãos, centrado em `[8, 5]` (cor, tamanho), com desvio padrão (`cluster_std`) de `0.8`.  \n",
    "    * **Baixa Qualidade:** 40 grãos, centrado em `[4, 3]`, com desvio padrão de `0.6`.  \n",
    "\n",
    "    b) Junte os dois grupos em uma única matriz de dados. (Dica: `np.vstack`).  \n",
    "\n",
    "    c) Crie um gráfico de dispersão para todos os grãos (sem usar cores para diferenciar os grupos). Olhando para o gráfico, você consegue identificar visualmente os dois grupos de qualidade? Eles estão bem separados?\n",
    "\n",
    "2. **Cálculo de Centroides e Distâncias**\n",
    "\n",
    "    a) Calcule o **centroide** de cada grupo (Alta e Baixa Qualidade) usando a média das coordenadas de seus pontos.\n",
    "\n",
    "    b) Plote os centroides no gráfico de dispersão anterior\n",
    "\n",
    "3. **Tomada de Decisão**\n",
    "\n",
    "    a) Um novo grão passa pelo sensor e registra as medições:\n",
    "\n",
    "    $$\n",
    "    \\text{novo\\_grao} = [7.5, \\, 4.8]\n",
    "    $$\n",
    "\n",
    "    b) Adicione este novo ponto ao seu gráfico, mas com uma cor e um marcador diferentes (por exemplo, um 'X' vermelho e maior) para destacá-lo.  \n",
    "\n",
    "    c) Calcule a **distância euclidiana** do novo grão até cada centroide.  \n",
    "\n",
    "    $$\n",
    "    d(\\mathbf{x}, \\mathbf{c}) = \\sqrt{(x_1 - c_1)^2 + (x_2 - c_2)^2}\n",
    "    $$\n",
    "\n",
    "    d) Escreva uma função `classificar_ponto` que receba as coordenadas de um ponto e uma lista de centroides, calcule as distâncias e retorne o rótulo do cluster mais próximo (Alta ou Baixa Qualidade)."
   ]
  },
  {
   "cell_type": "code",
   "execution_count": 3,
   "id": "ac576797",
   "metadata": {},
   "outputs": [
    {
     "name": "stdout",
     "output_type": "stream",
     "text": [
      "Collecting numpy\n",
      "  Downloading numpy-2.3.3-cp312-cp312-manylinux_2_27_x86_64.manylinux_2_28_x86_64.whl.metadata (62 kB)\n",
      "Collecting matplotlib\n",
      "  Downloading matplotlib-3.10.6-cp312-cp312-manylinux2014_x86_64.manylinux_2_17_x86_64.whl.metadata (11 kB)\n",
      "Collecting scikit-learn\n",
      "  Downloading scikit_learn-1.7.2-cp312-cp312-manylinux2014_x86_64.manylinux_2_17_x86_64.whl.metadata (11 kB)\n",
      "Collecting contourpy>=1.0.1 (from matplotlib)\n",
      "  Downloading contourpy-1.3.3-cp312-cp312-manylinux_2_27_x86_64.manylinux_2_28_x86_64.whl.metadata (5.5 kB)\n",
      "Collecting cycler>=0.10 (from matplotlib)\n",
      "  Downloading cycler-0.12.1-py3-none-any.whl.metadata (3.8 kB)\n",
      "Collecting fonttools>=4.22.0 (from matplotlib)\n",
      "  Downloading fonttools-4.60.0-cp312-cp312-manylinux1_x86_64.manylinux2014_x86_64.manylinux_2_17_x86_64.manylinux_2_5_x86_64.whl.metadata (111 kB)\n",
      "Collecting kiwisolver>=1.3.1 (from matplotlib)\n",
      "  Downloading kiwisolver-1.4.9-cp312-cp312-manylinux2014_x86_64.manylinux_2_17_x86_64.whl.metadata (6.3 kB)\n",
      "Requirement already satisfied: packaging>=20.0 in ./.venv/lib/python3.12/site-packages (from matplotlib) (25.0)\n",
      "Collecting pillow>=8 (from matplotlib)\n",
      "  Downloading pillow-11.3.0-cp312-cp312-manylinux_2_27_x86_64.manylinux_2_28_x86_64.whl.metadata (9.0 kB)\n",
      "Collecting pyparsing>=2.3.1 (from matplotlib)\n",
      "  Downloading pyparsing-3.2.5-py3-none-any.whl.metadata (5.0 kB)\n",
      "Requirement already satisfied: python-dateutil>=2.7 in ./.venv/lib/python3.12/site-packages (from matplotlib) (2.9.0.post0)\n",
      "Collecting scipy>=1.8.0 (from scikit-learn)\n",
      "  Downloading scipy-1.16.2-cp312-cp312-manylinux2014_x86_64.manylinux_2_17_x86_64.whl.metadata (62 kB)\n",
      "Collecting joblib>=1.2.0 (from scikit-learn)\n",
      "  Downloading joblib-1.5.2-py3-none-any.whl.metadata (5.6 kB)\n",
      "Collecting threadpoolctl>=3.1.0 (from scikit-learn)\n",
      "  Downloading threadpoolctl-3.6.0-py3-none-any.whl.metadata (13 kB)\n",
      "Requirement already satisfied: six>=1.5 in ./.venv/lib/python3.12/site-packages (from python-dateutil>=2.7->matplotlib) (1.17.0)\n",
      "Downloading numpy-2.3.3-cp312-cp312-manylinux_2_27_x86_64.manylinux_2_28_x86_64.whl (16.6 MB)\n",
      "\u001b[2K   \u001b[90m━━━━━━━━━━━━━━━━━━━━━━━━━━━━━━━━━━━━━━━━\u001b[0m \u001b[32m16.6/16.6 MB\u001b[0m \u001b[31m32.9 MB/s\u001b[0m  \u001b[33m0:00:00\u001b[0meta \u001b[36m0:00:01\u001b[0m\n",
      "\u001b[?25hDownloading matplotlib-3.10.6-cp312-cp312-manylinux2014_x86_64.manylinux_2_17_x86_64.whl (8.7 MB)\n",
      "\u001b[2K   \u001b[90m━━━━━━━━━━━━━━━━━━━━━━━━━━━━━━━━━━━━━━━━\u001b[0m \u001b[32m8.7/8.7 MB\u001b[0m \u001b[31m85.6 MB/s\u001b[0m  \u001b[33m0:00:00\u001b[0m\n",
      "\u001b[?25hDownloading scikit_learn-1.7.2-cp312-cp312-manylinux2014_x86_64.manylinux_2_17_x86_64.whl (9.5 MB)\n",
      "\u001b[2K   \u001b[90m━━━━━━━━━━━━━━━━━━━━━━━━━━━━━━━━━━━━━━━━\u001b[0m \u001b[32m9.5/9.5 MB\u001b[0m \u001b[31m76.9 MB/s\u001b[0m  \u001b[33m0:00:00\u001b[0m\n",
      "\u001b[?25hDownloading contourpy-1.3.3-cp312-cp312-manylinux_2_27_x86_64.manylinux_2_28_x86_64.whl (362 kB)\n",
      "Downloading cycler-0.12.1-py3-none-any.whl (8.3 kB)\n",
      "Downloading fonttools-4.60.0-cp312-cp312-manylinux1_x86_64.manylinux2014_x86_64.manylinux_2_17_x86_64.manylinux_2_5_x86_64.whl (4.9 MB)\n",
      "\u001b[2K   \u001b[90m━━━━━━━━━━━━━━━━━━━━━━━━━━━━━━━━━━━━━━━━\u001b[0m \u001b[32m4.9/4.9 MB\u001b[0m \u001b[31m78.7 MB/s\u001b[0m  \u001b[33m0:00:00\u001b[0m\n",
      "\u001b[?25hDownloading joblib-1.5.2-py3-none-any.whl (308 kB)\n",
      "Downloading kiwisolver-1.4.9-cp312-cp312-manylinux2014_x86_64.manylinux_2_17_x86_64.whl (1.5 MB)\n",
      "\u001b[2K   \u001b[90m━━━━━━━━━━━━━━━━━━━━━━━━━━━━━━━━━━━━━━━━\u001b[0m \u001b[32m1.5/1.5 MB\u001b[0m \u001b[31m71.2 MB/s\u001b[0m  \u001b[33m0:00:00\u001b[0m\n",
      "\u001b[?25hDownloading pillow-11.3.0-cp312-cp312-manylinux_2_27_x86_64.manylinux_2_28_x86_64.whl (6.6 MB)\n",
      "\u001b[2K   \u001b[90m━━━━━━━━━━━━━━━━━━━━━━━━━━━━━━━━━━━━━━━━\u001b[0m \u001b[32m6.6/6.6 MB\u001b[0m \u001b[31m83.1 MB/s\u001b[0m  \u001b[33m0:00:00\u001b[0m\n",
      "\u001b[?25hDownloading pyparsing-3.2.5-py3-none-any.whl (113 kB)\n",
      "Downloading scipy-1.16.2-cp312-cp312-manylinux2014_x86_64.manylinux_2_17_x86_64.whl (35.7 MB)\n",
      "\u001b[2K   \u001b[90m━━━━━━━━━━━━━━━━━━━━━━━━━━━━━━━━━━━━━━━━\u001b[0m \u001b[32m35.7/35.7 MB\u001b[0m \u001b[31m86.2 MB/s\u001b[0m  \u001b[33m0:00:00\u001b[0m6m0:00:01\u001b[0m00:01\u001b[0m\n",
      "\u001b[?25hDownloading threadpoolctl-3.6.0-py3-none-any.whl (18 kB)\n",
      "Installing collected packages: threadpoolctl, pyparsing, pillow, numpy, kiwisolver, joblib, fonttools, cycler, scipy, contourpy, scikit-learn, matplotlib\n",
      "\u001b[2K   \u001b[90m━━━━━━━━━━━━━━━━━━━━━━━━━━━━━━━━━━━━━━━━\u001b[0m \u001b[32m12/12\u001b[0m [matplotlib]2\u001b[0m [matplotlib]n]\n",
      "\u001b[1A\u001b[2KSuccessfully installed contourpy-1.3.3 cycler-0.12.1 fonttools-4.60.0 joblib-1.5.2 kiwisolver-1.4.9 matplotlib-3.10.6 numpy-2.3.3 pillow-11.3.0 pyparsing-3.2.5 scikit-learn-1.7.2 scipy-1.16.2 threadpoolctl-3.6.0\n",
      "Note: you may need to restart the kernel to use updated packages.\n"
     ]
    }
   ],
   "source": [
    "%pip install numpy matplotlib scikit-learn\n",
    "\n",
    "import numpy as np\n",
    "import matplotlib.pyplot as plt\n",
    "from sklearn.datasets import make_blobs"
   ]
  },
  {
   "cell_type": "code",
   "execution_count": 4,
   "id": "a3adeecc",
   "metadata": {},
   "outputs": [],
   "source": [
    "# Simular dados\n",
    "x_high, _ = make_blobs(n_samples=80, centers=[[8, 5]], cluster_std=0.8, random_state=42)\n",
    "x_low, _ = make_blobs(n_samples=40, centers=[[4, 3]], cluster_std=0.6, random_state=42)\n",
    "\n",
    "# Juntar em um dataset\n",
    "x = np.vstack([x_high, x_low])"
   ]
  },
  {
   "cell_type": "code",
   "execution_count": 5,
   "id": "552b818f",
   "metadata": {},
   "outputs": [
    {
     "data": {
      "image/png": "[encoded data removed]",
      "text/plain": [
       "<Figure size 700x500 with 1 Axes>"
      ]
     },
     "metadata": {},
     "output_type": "display_data"
    }
   ],
   "source": [
    "# Grafico sem diferenciar os clusters\n",
    "plt.figure(figsize=(7, 5))\n",
    "plt.scatter(x[:, 0], x[:, 1], alpha=0.7, edgecolor=\"k\")\n",
    "plt.xlabel(\"Intensidade da Cor\")\n",
    "plt.ylabel(\"Tamanho do Grão\")\n",
    "plt.title(\"Grãos de Café (sem rótulo)\")\n",
    "plt.show()"
   ]
  },
  {
   "cell_type": "code",
   "execution_count": 6,
   "id": "58cb7309",
   "metadata": {},
   "outputs": [
    {
     "name": "stdout",
     "output_type": "stream",
     "text": [
      "Centroide Alta Qualidade: [7.89588326 4.99595393]\n",
      "Centroide Baixa Qualidade: [3.89615047 2.95524135]\n"
     ]
    }
   ],
   "source": [
    "# Cálculo dos centróides\n",
    "centroide_high = x_high.mean(axis=0)\n",
    "centroide_low = x_low.mean(axis=0)\n",
    "\n",
    "print(\"Centroide Alta Qualidade:\", centroide_high)\n",
    "print(\"Centroide Baixa Qualidade:\", centroide_low)"
   ]
  },
  {
   "cell_type": "code",
   "execution_count": 8,
   "id": "c5b9efab",
   "metadata": {},
   "outputs": [
    {
     "data": {
      "image/png": "[encoded data removed]",
      "text/plain": [
       "<Figure size 700x500 with 1 Axes>"
      ]
     },
     "metadata": {},
     "output_type": "display_data"
    }
   ],
   "source": [
    "# Visualização dos dados com os centróides\n",
    "plt.figure(figsize=(7, 5))\n",
    "plt.scatter(x[:, 0], x[:, 1], alpha=0.7, edgecolor=\"k\")\n",
    "plt.scatter(*centroide_high, c=\"blue\", marker=\"X\", s=200, label=\"Centroide Alta\")\n",
    "plt.scatter(*centroide_low, c=\"green\", marker=\"X\", s=200, label=\"Centroide Baixa\")\n",
    "plt.xlabel(\"Intensidade da Cor\")\n",
    "plt.ylabel(\"Tamanho do Grão\")\n",
    "plt.legend()\n",
    "plt.title(\"Grãos de Café + Centroides\")\n",
    "plt.show()"
   ]
  },
  {
   "cell_type": "code",
   "execution_count": 9,
   "id": "c6eb5536",
   "metadata": {},
   "outputs": [
    {
     "data": {
      "image/png": "[encoded data removed]",
      "text/plain": [
       "<Figure size 700x500 with 1 Axes>"
      ]
     },
     "metadata": {},
     "output_type": "display_data"
    }
   ],
   "source": [
    "# Novo grão a ser classificado\n",
    "novo_grao = np.array([7.5, 4.8])\n",
    "\n",
    "plt.figure(figsize=(7, 5))\n",
    "plt.scatter(x[:, 0], x[:, 1], alpha=0.7, edgecolor=\"k\")\n",
    "plt.scatter(*centroide_high, c=\"blue\", marker=\"X\", s=200, label=\"Centroide Alta\")\n",
    "plt.scatter(*centroide_low, c=\"green\", marker=\"X\", s=200, label=\"Centroide Baixa\")\n",
    "plt.scatter(*novo_grao, c=\"red\", marker=\"X\", s=250, label=\"Novo Grão\")\n",
    "plt.xlabel(\"Intensidade da Cor\")\n",
    "plt.ylabel(\"Tamanho do Grão\")\n",
    "plt.legend()\n",
    "plt.title(\"Classificação de Novo Grão\")\n",
    "plt.show()"
   ]
  },
  {
   "cell_type": "code",
   "execution_count": 10,
   "id": "2b23bb11",
   "metadata": {},
   "outputs": [
    {
     "name": "stdout",
     "output_type": "stream",
     "text": [
      "Distância até Alta Qualidade: 0.44172558846917165\n",
      "Distância até Baixa Qualidade: 4.048563439258104\n"
     ]
    }
   ],
   "source": [
    "# Função para calcular a distância euclidiana\n",
    "def distancia(p1, p2):\n",
    "    return np.sqrt(np.sum((p1 - p2)**2))\n",
    "\n",
    "d_high = distancia(novo_grao, centroide_high)\n",
    "d_low  = distancia(novo_grao, centroide_low)\n",
    "\n",
    "print(\"Distância até Alta Qualidade:\", d_high)\n",
    "print(\"Distância até Baixa Qualidade:\", d_low)\n"
   ]
  },
  {
   "cell_type": "code",
   "execution_count": 11,
   "id": "ee3a30b0",
   "metadata": {},
   "outputs": [
    {
     "name": "stdout",
     "output_type": "stream",
     "text": [
      "O novo grão foi classificado como: Alta Qualidade\n"
     ]
    }
   ],
   "source": [
    "# Classificação baseada na menor distância ao centróide\n",
    "def classificar_ponto(ponto, centroides, labels):\n",
    "    distancias = [distancia(ponto, c) for c in centroides]\n",
    "    idx_min = np.argmin(distancias)\n",
    "    return labels[idx_min]\n",
    "\n",
    "labels = [\"Alta Qualidade\", \"Baixa Qualidade\"]\n",
    "centroides = [centroide_high, centroide_low]\n",
    "\n",
    "classe = classificar_ponto(novo_grao, centroides, labels)\n",
    "print(\"O novo grão foi classificado como:\", classe)"
   ]
  }
 ],
 "metadata": {
  "kernelspec": {
   "display_name": ".venv",
   "language": "python",
   "name": "python3"
  },
  "language_info": {
   "codemirror_mode": {
    "name": "ipython",
    "version": 3
   },
   "file_extension": ".py",
   "mimetype": "text/x-python",
   "name": "python",
   "nbconvert_exporter": "python",
   "pygments_lexer": "ipython3",
   "version": "3.12.3"
  }
 },
 "nbformat": 4,
 "nbformat_minor": 5
}
